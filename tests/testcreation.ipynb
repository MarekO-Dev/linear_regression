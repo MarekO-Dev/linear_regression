{
 "cells": [
  {
   "cell_type": "code",
   "execution_count": null,
   "id": "cfef577a-3b59-4ebc-a82b-8a3c886d2f9e",
   "metadata": {},
   "outputs": [],
   "source": [
    "import unittest\n",
    "\n",
    "class TestNumbers(unittest.TestCase):\n",
    "\n",
    "    def test_two_equal_two(self):\n",
    "        self.assertIs(5, \"5\")\n",
    "        self.assertIsNot(5, 5)\n",
    "\n",
    "\n",
    "if __name__ == \"__main__\":\n",
    "    unittest.main()"
   ]
  }
 ],
 "metadata": {
  "kernelspec": {
   "display_name": "Python 3 (ipykernel)",
   "language": "python",
   "name": "python3"
  },
  "language_info": {
   "codemirror_mode": {
    "name": "ipython",
    "version": 3
   },
   "file_extension": ".py",
   "mimetype": "text/x-python",
   "name": "python",
   "nbconvert_exporter": "python",
   "pygments_lexer": "ipython3",
   "version": "3.13.5"
  }
 },
 "nbformat": 4,
 "nbformat_minor": 5
}
