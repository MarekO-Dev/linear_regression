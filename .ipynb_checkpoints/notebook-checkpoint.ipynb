{
 "cells": [
  {
   "cell_type": "markdown",
   "id": "4ac88a52-be16-4606-bbcd-ef04477ece29",
   "metadata": {},
   "source": [
    "# <span style=\"color: green;\">Linear Regression</span>\n",
    "\n",
    "variable | meaning | notes\n",
    "---|---:|:---:\n",
    "---|<span style=\"color: green;\">y</span> = <span style=\"color: orange;\">m</span> $\\cdot$ <span style=\"color: red;\">x</span> + <span style=\"color: blue;\">b</span>| min 10 data points\n",
    "<span style=\"color: green;font-weight: bold;\">y</span> | dependent\n",
    "<span style=\"color: red;font-weight: bold;\">x</span> | independent\n",
    "<span style=\"color: orange;font-weight: bold;\">m</span> | slope | $\\frac {rise} {run}$\n",
    "<span style=\"color: blue;font-weight: bold;\">b</span> | y-intercept | where line of best fit crosses y at x = 0\n",
    "\n",
    "<center><img src=\"Linalg_line_of_best_fit_running.png\" width=\"600px\"></img></center>"
   ]
  },
  {
   "cell_type": "code",
   "execution_count": 1,
   "id": "33183940-1e03-4e12-8ba4-3d34e5d6bf13",
   "metadata": {},
   "outputs": [],
   "source": [
    "import numpy as np\n",
    "from random import randint\n",
    "import sys\n",
    "import matplotlib.pyplot as plt\n",
    "import seaborn as sns\n",
    "\n",
    "np.random.seed(1993)"
   ]
  },
  {
   "cell_type": "code",
   "execution_count": 2,
   "id": "f6fdbb42-8a61-404d-a9ff-b8818adb8d50",
   "metadata": {},
   "outputs": [],
   "source": [
    "def printer(val, suffix:str = \"\"):\n",
    "    print('|----------------------------------------------------------')\n",
    "    print(f\"|               {val}\")\n",
    "    print('|')\n",
    "    print(f\"|               {suffix}\")\n",
    "    print('|----------------------------------------------------------')\n",
    "    \n",
    "\n",
    "class Point:\n",
    "    '''\n",
    "    args:\n",
    "        values: list - list of tuples(independent, dependent)\n",
    "    '''\n",
    "    def __init__(self, \n",
    "                 values: list):\n",
    "                    \n",
    "        self.values = values\n",
    "\n",
    "    def __repr__(self):\n",
    "\n",
    "        return f\"HPoint({self.values[0]},{self.values[1]})\"\n",
    "\n",
    "    def __getitem__(self, key):\n",
    "\n",
    "        # This way will be clearer to get x and y from the point than indices\n",
    "        \n",
    "        match(key):\n",
    "            case 'x':\n",
    "                return self.values[0]\n",
    "            case 'y':\n",
    "                return self.values[1]\n",
    "                \n",
    "class LinearRegression:\n",
    "    \n",
    "    '''\n",
    "    Implementation of simple linear regression model\n",
    "    '''\n",
    "\n",
    "    def __init__(self,\n",
    "                 # Accept lists or numpy arrays as arguemnts\n",
    "                 x: list | np.ndarray,\n",
    "                 y: list | np.ndarray,\n",
    "                 /,\n",
    "                 independent: int, # Default dtype is 8 bit signed integer (-128, 127)\n",
    "                 \n",
    "                 dtype: str = \"int8\"):\n",
    "        \n",
    "        try:\n",
    "            \n",
    "            self.x = np.array(x, dtype = dtype)\n",
    "            self.y = np.array(y, dtype = dtype)\n",
    "            self.independent = independent\n",
    "            self._xy_list = list(zip(self.x, self.y))\n",
    "            self._points = [Point(p) for p in self._xy_list]\n",
    "            self.stats = self.calculate(independent, stats = True)\n",
    "            self.dependent = self.calculate(independent)\n",
    "            \n",
    "        except TypeError as e:\n",
    "            printer(e.args[0])\n",
    "            return\n",
    "        except OverflowError as e:\n",
    "            printer(e.args[0], suffix = \"Suggestion: Adjust dtype argument to allow for enought space for the value\")\n",
    "            return\n",
    "        finally:\n",
    "            print(\"Checks done\")\n",
    "        \n",
    "    def __repr__(self):\n",
    "        try:\n",
    "            return f\"<list: Point(x, y)>\\n{self._points}\"\n",
    "        except AttributeError as err:\n",
    "            return f\"Program failed:\\n {err.args[0]}\"\n",
    "\n",
    "    def calculate(self, independent: int | list, stats: bool = False):\n",
    "\n",
    "        # ----------------- Pseudo for now, these randoms should \\\n",
    "        #                   rather be swapped for some sort of residuals\\\n",
    "        #                   calculation to get the values for the       \\\n",
    "        #                   line of best fit.\n",
    "        #------------------\n",
    "\n",
    "        # Use pseudo random generator to generate 2 random indices for \n",
    "        random_point_first = randint(0, len(self.x)-2)\n",
    "        random_point_second = randint(random_point_first+1, len(self.y) - 1)\n",
    "        point1 = self._points[random_point_first]\n",
    "        point2 = self._points[random_point_second]\n",
    "        # --------------------------------------------------------------\n",
    "        \n",
    "        # Define line of best fit between two points\n",
    "        line_of_best_fit = [point1, point2]\n",
    "        # Define what rise and run are\n",
    "        rise = line_of_best_fit[1][\"y\"] - line_of_best_fit[0][\"y\"]\n",
    "        run = line_of_best_fit[1][\"x\"] - line_of_best_fit[0][\"x\"]\n",
    "\n",
    "        slope: float = rise / run\n",
    "        b = line_of_best_fit[0][\"y\"] - slope * line_of_best_fit[0][\"x\"]\n",
    "\n",
    "        dependent = slope * independent + b\n",
    "        \n",
    "        return (slope, b, dependent) if stats else dependent"
   ]
  },
  {
   "cell_type": "code",
   "execution_count": 3,
   "id": "8074e3b5-43f3-4dd7-b248-532c538fefac",
   "metadata": {},
   "outputs": [],
   "source": [
    "linreg = LinearRegression(list(np.linspace(6, 350, 10)), list(np.linspace(20, 448, 10)), independent = 320, dtype=\"int16\")\n",
    "slope, b, dependent = linreg.stats\n"
   ]
  },
  {
   "cell_type": "code",
   "execution_count": 4,
   "id": "ba2f8af8-6a60-4cc5-85c1-da9d9433efa6",
   "metadata": {},
   "outputs": [
    {
     "data": {
      "image/png": "[encoded data removed]",
      "text/plain": [
       "<Figure size 600x400 with 1 Axes>"
      ]
     },
     "metadata": {},
     "output_type": "display_data"
    },
    {
     "data": {
      "text/plain": [
       "<Figure size 640x480 with 0 Axes>"
      ]
     },
     "metadata": {},
     "output_type": "display_data"
    }
   ],
   "source": [
    "fig, ax = plt.subplots(figsize=(6,4))\n",
    "\n",
    "ax.scatter(linreg.x, linreg.y)\n",
    "ax.scatter(linreg.independent, dependent)\n",
    "\n",
    "plt.show()\n",
    "plt.clf()"
   ]
  }
 ],
 "metadata": {
  "kernelspec": {
   "display_name": "Python 3 (ipykernel)",
   "language": "python",
   "name": "python3"
  },
  "language_info": {
   "codemirror_mode": {
    "name": "ipython",
    "version": 3
   },
   "file_extension": ".py",
   "mimetype": "text/x-python",
   "name": "python",
   "nbconvert_exporter": "python",
   "pygments_lexer": "ipython3",
   "version": "3.13.5"
  }
 },
 "nbformat": 4,
 "nbformat_minor": 5
}
